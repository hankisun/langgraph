{
 "cells": [
  {
   "cell_type": "code",
   "execution_count": null,
   "id": "8327a979",
   "metadata": {},
   "outputs": [],
   "source": [
    "import numpy as np\n",
    "def log(number):\n",
    "    # log에 0이 들어가는 것을 막기 위해 아주 작은 수를 더해줌.\n",
    "    return np.log(number + 1e-10)\n",
    "\n",
    "def naive_beam_search_decoder(predictions, k):\n",
    "    # prediction = (seq_len , V)\n",
    "    sequences = [[list(), 1.0]]\n",
    "    \n",
    "    for row in predictions:\n",
    "        all_candidates = list()\n",
    "        \n",
    "        # 1. 각각의 timestep에서 가능한 후보군으로 확장\n",
    "        for i in range(len(sequences)):\n",
    "            seq, score = sequences[i]\n",
    "        \n",
    "            # 2. 확장된 후보 스텝에 대해 점수 계산\n",
    "            for j in range(len(row)):\n",
    "                new_seq = seq + [j] \n",
    "                new_score = score * -log(row[j])\n",
    "                candidate = [new_seq, new_score]\n",
    "                all_candidates.append(candidate)\n",
    "        \n",
    "        # 3. 가능도가 높은 k개의 시퀀스만 남김 \n",
    "        ordered = sorted(all_candidates, key=lambda tup:tup[1]) #점수 기준 정렬\n",
    "        sequences = ordered[:k]\n",
    "        print(sequences)\n",
    "\n",
    "    return sequences"
   ]
  },
  {
   "cell_type": "code",
   "execution_count": null,
   "id": "a9e5444e",
   "metadata": {},
   "outputs": [],
   "source": [
    "import random\n",
    "seq_len = 4\n",
    "V = 10\n",
    "predictions = [[random.random() for _ in range(V)] for _ in range(seq_len)]\n",
    "\n",
    "naive_beam_search_decoder(predictions, k=5)"
   ]
  }
 ],
 "metadata": {
  "language_info": {
   "name": "python"
  }
 },
 "nbformat": 4,
 "nbformat_minor": 5
}
