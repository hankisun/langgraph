{
 "cells": [
  {
   "cell_type": "code",
   "execution_count": null,
   "id": "8327a979",
   "metadata": {},
   "outputs": [],
   "source": [
    "import numpy as np\n",
    "def log(number):\n",
    "    # log에 0이 들어가는 것을 막기 위해 아주 작은 수를 더해줌.\n",
    "    return np.log(number + 1e-10)\n",
    "\n",
    "def naive_beam_search_decoder(predictions, k):\n",
    "    # prediction = (seq_len , V)\n",
    "    sequences = [[list(), 1.0]]\n",
    "    \n",
    "    for row in predictions:\n",
    "        all_candidates = list()\n",
    "        \n",
    "        # 1. 각각의 timestep에서 가능한 후보군으로 확장\n",
    "        for i in range(len(sequences)):\n",
    "            seq, score = sequences[i]\n",
    "        \n",
    "            # 2. 확장된 후보 스텝에 대해 점수 계산\n",
    "            for j in range(len(row)):\n",
    "                new_seq = seq + [j] \n",
    "                new_score = score * -log(row[j])\n",
    "                candidate = [new_seq, new_score]\n",
    "                all_candidates.append(candidate)\n",
    "        \n",
    "        # 3. 가능도가 높은 k개의 시퀀스만 남김 \n",
    "        ordered = sorted(all_candidates, key=lambda tup:tup[1]) #점수 기준 정렬\n",
    "        sequences = ordered[:k]\n",
    "        print(sequences)\n",
    "\n",
    "    return sequences"
   ]
  },
  {
   "cell_type": "code",
   "execution_count": 3,
   "id": "a9e5444e",
   "metadata": {},
   "outputs": [
    {
     "name": "stdout",
     "output_type": "stream",
     "text": [
      "[[0.46537284728418893, 0.03517131109258809, 0.38642331331234236, 0.749518072298177, 0.7282217039969907, 0.21322543544863237, 0.3108135222677524, 0.17720385001951278, 0.07590377829146167, 0.8606276742750495], [0.05013139393611543, 0.414701712789434, 0.9182088661385521, 0.06829763513021547, 0.11726768965079448, 0.7980378621817958, 0.3699978920331397, 0.8928575211070535, 0.370416536002508, 0.4323016929480258], [0.5730032654980612, 0.41908700834309554, 0.6463372167768289, 0.2886566218429214, 0.30346373382503544, 0.8728138834974987, 0.7591510917747685, 0.6546612970651214, 0.6752720888289181, 0.7459666719188686], [0.24342189122131574, 0.28919054127256194, 0.19103719481167825, 0.1973595415975814, 0.08594190478444663, 0.34836189640492676, 0.05872060633086962, 0.7356836949749751, 0.35790964752864385, 0.3819384179660905]]\n",
      "[[[9], np.float64(0.1500933020239594)], [[3], np.float64(0.2883248491242155)], [[4], np.float64(0.31714973855314893)], [[0], np.float64(0.764916372350985)], [[2], np.float64(0.9508218435457818)]]\n",
      "[[[9, 2], np.float64(0.012807520164010206)], [[9, 7], np.float64(0.01700981298945385)], [[3, 2], np.float64(0.024602872141184024)], [[4, 2], np.float64(0.02706251122972575)], [[3, 7], np.float64(0.032675353914410656)]]\n",
      "[[[9, 2, 5], np.float64(0.0017422445916218392)], [[9, 7, 5], np.float64(0.0023138948294339975)], [[3, 2, 5], np.float64(0.0033468009714161654)], [[9, 2, 6], np.float64(0.0035291692306142902)], [[4, 2, 5], np.float64(0.003681392902131636)]]\n",
      "[[[9, 2, 5, 7], np.float64(0.0005347907143261195)], [[9, 7, 5, 7], np.float64(0.0007102616215077998)], [[3, 2, 5, 7], np.float64(0.0010273173415592917)], [[9, 2, 6, 7], np.float64(0.0010832961932520885)], [[4, 2, 5, 7], np.float64(0.0011300220125885824)]]\n"
     ]
    },
    {
     "data": {
      "text/plain": [
       "[[[9, 2, 5, 7], np.float64(0.0005347907143261195)],\n",
       " [[9, 7, 5, 7], np.float64(0.0007102616215077998)],\n",
       " [[3, 2, 5, 7], np.float64(0.0010273173415592917)],\n",
       " [[9, 2, 6, 7], np.float64(0.0010832961932520885)],\n",
       " [[4, 2, 5, 7], np.float64(0.0011300220125885824)]]"
      ]
     },
     "execution_count": 3,
     "metadata": {},
     "output_type": "execute_result"
    }
   ],
   "source": [
    "import random\n",
    "seq_len = 4\n",
    "V = 10\n",
    "predictions = [[random.random() for _ in range(V)] for _ in range(seq_len)]\n",
    "print(predictions)\n",
    "\n",
    "naive_beam_search_decoder(predictions, k=5)"
   ]
  },
  {
   "cell_type": "code",
   "execution_count": null,
   "id": "0eb884ff",
   "metadata": {},
   "outputs": [],
   "source": []
  }
 ],
 "metadata": {
  "kernelspec": {
   "display_name": "venv",
   "language": "python",
   "name": "python3"
  },
  "language_info": {
   "codemirror_mode": {
    "name": "ipython",
    "version": 3
   },
   "file_extension": ".py",
   "mimetype": "text/x-python",
   "name": "python",
   "nbconvert_exporter": "python",
   "pygments_lexer": "ipython3",
   "version": "3.11.3"
  }
 },
 "nbformat": 4,
 "nbformat_minor": 5
}
