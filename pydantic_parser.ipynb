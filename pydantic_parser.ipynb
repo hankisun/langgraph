{
 "cells": [
  {
   "cell_type": "markdown",
   "id": "b4792aea",
   "metadata": {},
   "source": [
    "## LLM 모델 설정"
   ]
  },
  {
   "cell_type": "code",
   "execution_count": 17,
   "id": "5060d325",
   "metadata": {},
   "outputs": [],
   "source": [
    "from dotenv import load_dotenv\n",
    "from langchain_openai import ChatOpenAI\n",
    "from langchain_core.output_parsers import PydanticOutputParser\n",
    "from pydantic import BaseModel, Field\n",
    "\n",
    "load_dotenv()\n",
    "\n",
    "llm = ChatOpenAI(\n",
    "    model_name=\"gpt-4o-mini\",\n",
    "    temperature=0.7,\n",
    "    max_tokens=150,\n",
    ")\n",
    "\n",
    "# from langchain.schema import HumanMessage\n",
    "\n",
    "# response_mini = gpt4o_mini.invoke([HumanMessage(content=\"Hello, Can you tell me who you are?\")])\n",
    "# print(response_mini.content)"
   ]
  },
  {
   "cell_type": "code",
   "execution_count": 18,
   "id": "88eff356",
   "metadata": {},
   "outputs": [],
   "source": [
    "email_conversation = \"\"\"From: 김철수 (chulsoo.kim@bikecorporation.me)\n",
    "To: 이은채 (eunchae@teddyinternational.me)\n",
    "Subject: \"ZENESIS\" 자전거 유통 협력 및 미팅 일정 제안\n",
    "\n",
    "안녕하세요, 이은채 대리님,\n",
    "\n",
    "저는 바이크코퍼레이션의 김철수 상무입니다. 최근 보도자료를 통해 귀사의 신규 자전거 \"ZENESIS\"에 대해 알게 되었습니다. 바이크코퍼레이션은 자전거 제조 및 유통 분야에서 혁신과 품질을 선도하는 기업으로, 이 분야에서의 장기적인 경험과 전문성을 가지고 있습니다.\n",
    "\n",
    "ZENESIS 모델에 대한 상세한 브로슈어를 요청드립니다. 특히 기술 사양, 배터리 성능, 그리고 디자인 측면에 대한 정보가 필요합니다. 이를 통해 저희가 제안할 유통 전략과 마케팅 계획을 보다 구체화할 수 있을 것입니다.\n",
    "\n",
    "또한, 협력 가능성을 더 깊이 논의하기 위해 다음 주 화요일(1월 15일) 오전 10시에 미팅을 제안합니다. 귀사 사무실에서 만나 이야기를 나눌 수 있을까요?\n",
    "\n",
    "감사합니다.\n",
    "\n",
    "김철수\n",
    "상무이사\n",
    "바이크코퍼레이션\n",
    "\"\"\""
   ]
  },
  {
   "cell_type": "markdown",
   "id": "844314d0",
   "metadata": {},
   "source": [
    "## PydanticOutputParser"
   ]
  },
  {
   "cell_type": "code",
   "execution_count": 19,
   "id": "62c3fccf",
   "metadata": {},
   "outputs": [
    {
     "name": "stdout",
     "output_type": "stream",
     "text": [
      "The output should be formatted as a JSON instance that conforms to the JSON schema below.\n",
      "\n",
      "As an example, for the schema {\"properties\": {\"foo\": {\"title\": \"Foo\", \"description\": \"a list of strings\", \"type\": \"array\", \"items\": {\"type\": \"string\"}}}, \"required\": [\"foo\"]}\n",
      "the object {\"foo\": [\"bar\", \"baz\"]} is a well-formatted instance of the schema. The object {\"properties\": {\"foo\": [\"bar\", \"baz\"]}} is not well-formatted.\n",
      "\n",
      "Here is the output schema:\n",
      "```\n",
      "{\"properties\": {\"person\": {\"description\": \"메일을 보낸 사람\", \"title\": \"Person\", \"type\": \"string\"}, \"email\": {\"description\": \"메일을 보낸 사람의 이메일 주소\", \"title\": \"Email\", \"type\": \"string\"}, \"subject\": {\"description\": \"메일 제목\", \"title\": \"Subject\", \"type\": \"string\"}, \"summary\": {\"description\": \"메일 본문을 요약한 텍스트\", \"title\": \"Summary\", \"type\": \"string\"}, \"date\": {\"description\": \"메일 본문에 언급된 미팅 날짜와 시간\", \"title\": \"Date\", \"type\": \"string\"}}, \"required\": [\"person\", \"email\", \"subject\", \"summary\", \"date\"]}\n",
      "```\n"
     ]
    }
   ],
   "source": [
    "class EmailSummary(BaseModel):\n",
    "    person: str = Field(description=\"메일을 보낸 사람\")\n",
    "    email: str = Field(description=\"메일을 보낸 사람의 이메일 주소\")\n",
    "    subject: str = Field(description=\"메일 제목\")\n",
    "    summary: str = Field(description=\"메일 본문을 요약한 텍스트\")\n",
    "    date: str = Field(description=\"메일 본문에 언급된 미팅 날짜와 시간\")\n",
    "\n",
    "# PydanticOutputParser 생성\n",
    "parser = PydanticOutputParser(pydantic_object=EmailSummary)\n",
    "print(parser.get_format_instructions())"
   ]
  },
  {
   "cell_type": "code",
   "execution_count": 20,
   "id": "74bcc676",
   "metadata": {},
   "outputs": [],
   "source": [
    "from langchain_core.prompts import PromptTemplate\n",
    "\n",
    "prompt = PromptTemplate.from_template(\n",
    "    \"\"\"\n",
    "You are a helpful assistant. Please answer the following questions in KOREAN.\n",
    "\n",
    "QUESTION:\n",
    "{question}\n",
    "\n",
    "EMAIL CONVERSATION:\n",
    "{email_conversation}\n",
    "\n",
    "FORMAT:\n",
    "{format}\n",
    "\"\"\"\n",
    ")"
   ]
  },
  {
   "cell_type": "code",
   "execution_count": 21,
   "id": "f65a9511",
   "metadata": {},
   "outputs": [],
   "source": [
    "# format 에 PydanticOutputParser의 부분 포맷팅(partial) 추가\n",
    "prompt = prompt.partial(format=parser.get_format_instructions())\n",
    "chain = prompt | llm\n",
    "response = chain.invoke(\n",
    "    {\n",
    "        \"email_conversation\": email_conversation,\n",
    "        \"question\": \"이메일 내용중 주요 내용을 추출해 주세요.\",\n",
    "    }\n",
    ")"
   ]
  },
  {
   "cell_type": "code",
   "execution_count": 28,
   "id": "ce146a5c",
   "metadata": {},
   "outputs": [
    {
     "data": {
      "text/plain": [
       "{'content': '```json\\n{\\n  \"person\": \"김철수\",\\n  \"email\": \"chulsoo.kim@bikecorporation.me\",\\n  \"subject\": \"\\\\\"ZENESIS\\\\\" 자전거 유통 협력 및 미팅 일정 제안\",\\n  \"summary\": \"김철수 상무는 이은채 대리에게 바이크코퍼레이션의 자전거 유통 협력을 제안하며, ZENESIS 모델에 대한 브로슈어 요청과 미팅 일정을 제안하였다.\",\\n  \"date\": \"1월 15일 오전 10시\"\\n}\\n```',\n",
       " 'additional_kwargs': {'refusal': None},\n",
       " 'response_metadata': {'token_usage': {'completion_tokens': 123,\n",
       "   'prompt_tokens': 601,\n",
       "   'total_tokens': 724,\n",
       "   'completion_tokens_details': {'accepted_prediction_tokens': 0,\n",
       "    'audio_tokens': 0,\n",
       "    'reasoning_tokens': 0,\n",
       "    'rejected_prediction_tokens': 0},\n",
       "   'prompt_tokens_details': {'audio_tokens': 0, 'cached_tokens': 0}},\n",
       "  'model_name': 'gpt-4o-mini-2024-07-18',\n",
       "  'system_fingerprint': 'fp_34a54ae93c',\n",
       "  'id': 'chatcmpl-BdAmGSCTAjw1t9w4KWxswT5H4UJOU',\n",
       "  'finish_reason': 'stop',\n",
       "  'logprobs': None},\n",
       " 'type': 'ai',\n",
       " 'name': None,\n",
       " 'id': 'run-b799c632-c3d9-4f31-93e0-519a414cad31-0',\n",
       " 'example': False,\n",
       " 'tool_calls': [],\n",
       " 'invalid_tool_calls': [],\n",
       " 'usage_metadata': {'input_tokens': 601,\n",
       "  'output_tokens': 123,\n",
       "  'total_tokens': 724,\n",
       "  'input_token_details': {'audio': 0, 'cache_read': 0},\n",
       "  'output_token_details': {'audio': 0, 'reasoning': 0}}}"
      ]
     },
     "execution_count": 28,
     "metadata": {},
     "output_type": "execute_result"
    }
   ],
   "source": [
    "response.model_dump()"
   ]
  },
  {
   "cell_type": "code",
   "execution_count": null,
   "id": "fef801dc",
   "metadata": {},
   "outputs": [
    {
     "name": "stdout",
     "output_type": "stream",
     "text": [
      "```json\n",
      "{\n",
      "  \"person\": \"김철수\",\n",
      "  \"email\": \"chulsoo.kim@bikecorporation.me\",\n",
      "  \"subject\": \"\\\"ZENESIS\\\" 자전거 유통 협력 및 미팅 일정 제안\",\n",
      "  \"summary\": \"김철수 상무는 이은채 대리에게 바이크코퍼레이션의 자전거 유통 협력을 제안하며, ZENESIS 모델에 대한 브로슈어 요청과 미팅 일정을 제안하였다.\",\n",
      "  \"date\": \"1월 15일 오전 10시\"\n",
      "}\n",
      "```\n"
     ]
    }
   ],
   "source": [
    "print(response.content)"
   ]
  },
  {
   "cell_type": "code",
   "execution_count": 32,
   "id": "cfe4b19c",
   "metadata": {},
   "outputs": [
    {
     "data": {
      "text/plain": [
       "{'person': '김철수',\n",
       " 'email': 'chulsoo.kim@bikecorporation.me',\n",
       " 'subject': '\"ZENESIS\" 자전거 유통 협력 및 미팅 일정 제안',\n",
       " 'summary': '김철수 상무는 이은채 대리에게 바이크코퍼레이션의 자전거 유통 협력을 제안하며, ZENESIS 모델에 대한 브로슈어 요청과 미팅 일정을 제안하였다.',\n",
       " 'date': '1월 15일 오전 10시'}"
      ]
     },
     "execution_count": 32,
     "metadata": {},
     "output_type": "execute_result"
    }
   ],
   "source": [
    "structured_output = parser.parse(response.content)\n",
    "structured_output.model_dump()"
   ]
  },
  {
   "cell_type": "code",
   "execution_count": null,
   "id": "dc46a3c4",
   "metadata": {},
   "outputs": [
    {
     "data": {
      "text/plain": [
       "dict"
      ]
     },
     "execution_count": 33,
     "metadata": {},
     "output_type": "execute_result"
    }
   ],
   "source": [
    "structured_output.model_dump()"
   ]
  },
  {
   "cell_type": "code",
   "execution_count": 34,
   "id": "cb3f8e77",
   "metadata": {},
   "outputs": [],
   "source": [
    "chain2 = prompt | llm | parser\n",
    "\n",
    "response2 = chain2.invoke({\n",
    "        \"email_conversation\": email_conversation,\n",
    "        \"question\": \"이메일 내용중 주요 내용을 추출해 주세요.\",\n",
    "    }\n",
    ")\n"
   ]
  },
  {
   "cell_type": "code",
   "execution_count": 37,
   "id": "59330c32",
   "metadata": {},
   "outputs": [
    {
     "data": {
      "text/plain": [
       "EmailSummary(person='김철수', email='chulsoo.kim@bikecorporation.me', subject='\"ZENESIS\" 자전거 유통 협력 및 미팅 일정 제안', summary='바이크코퍼레이션의 김철수가 ZENESIS 자전거에 대한 브로슈어 요청과 협력 논의를 위한 미팅 제안을 보냈습니다.', date='1월 15일 오전 10시')"
      ]
     },
     "execution_count": 37,
     "metadata": {},
     "output_type": "execute_result"
    }
   ],
   "source": [
    "response2"
   ]
  },
  {
   "cell_type": "code",
   "execution_count": 36,
   "id": "9f6ce6f5",
   "metadata": {},
   "outputs": [
    {
     "data": {
      "text/plain": [
       "{'person': '김철수',\n",
       " 'email': 'chulsoo.kim@bikecorporation.me',\n",
       " 'subject': '\"ZENESIS\" 자전거 유통 협력 및 미팅 일정 제안',\n",
       " 'summary': '바이크코퍼레이션의 김철수가 ZENESIS 자전거에 대한 브로슈어 요청과 협력 논의를 위한 미팅 제안을 보냈습니다.',\n",
       " 'date': '1월 15일 오전 10시'}"
      ]
     },
     "execution_count": 36,
     "metadata": {},
     "output_type": "execute_result"
    }
   ],
   "source": [
    "response2.model_dump()"
   ]
  },
  {
   "cell_type": "markdown",
   "id": "9fbb141c",
   "metadata": {},
   "source": [
    "### with_structured_output"
   ]
  },
  {
   "cell_type": "code",
   "execution_count": 39,
   "id": "7703b635",
   "metadata": {},
   "outputs": [],
   "source": [
    "llm_with_structured = ChatOpenAI(\n",
    "    model_name=\"gpt-4o-mini\",\n",
    "    temperature=0.7,\n",
    "    max_tokens=150,\n",
    ").with_structured_output(EmailSummary)"
   ]
  },
  {
   "cell_type": "code",
   "execution_count": 40,
   "id": "64686272",
   "metadata": {},
   "outputs": [
    {
     "data": {
      "text/plain": [
       "EmailSummary(person='이은채', email='eunchae@teddyinternational.me', subject='\"ZENESIS\" 자전거 유통 협력 및 미팅 일정 제안', summary='김철수 상무가 이은채 대리에게 바이크코퍼레이션의 자전거 \"ZENESIS\" 유통 협력에 대해 문의하며, 상세 브로슈어 요청과 함께 1월 15일 오전 10시에 미팅을 제안했다.', date='2023-01-12')"
      ]
     },
     "execution_count": 40,
     "metadata": {},
     "output_type": "execute_result"
    }
   ],
   "source": [
    "answer = llm_with_structured.invoke(email_conversation)\n",
    "answer"
   ]
  },
  {
   "cell_type": "code",
   "execution_count": 41,
   "id": "8f2a4592",
   "metadata": {},
   "outputs": [
    {
     "data": {
      "text/plain": [
       "{'person': '이은채',\n",
       " 'email': 'eunchae@teddyinternational.me',\n",
       " 'subject': '\"ZENESIS\" 자전거 유통 협력 및 미팅 일정 제안',\n",
       " 'summary': '김철수 상무가 이은채 대리에게 바이크코퍼레이션의 자전거 \"ZENESIS\" 유통 협력에 대해 문의하며, 상세 브로슈어 요청과 함께 1월 15일 오전 10시에 미팅을 제안했다.',\n",
       " 'date': '2023-01-12'}"
      ]
     },
     "execution_count": 41,
     "metadata": {},
     "output_type": "execute_result"
    }
   ],
   "source": [
    "answer.model_dump()"
   ]
  },
  {
   "cell_type": "code",
   "execution_count": 42,
   "id": "f0960df9",
   "metadata": {},
   "outputs": [],
   "source": [
    "chain3 = prompt | llm_with_structured\n",
    "\n",
    "response3 = chain3.invoke({\n",
    "        \"email_conversation\": email_conversation,\n",
    "        \"question\": \"이메일 내용중 주요 내용을 추출해 주세요.\",\n",
    "    }\n",
    ")\n"
   ]
  },
  {
   "cell_type": "code",
   "execution_count": 43,
   "id": "5e584796",
   "metadata": {},
   "outputs": [
    {
     "data": {
      "text/plain": [
       "{'person': '김철수',\n",
       " 'email': 'chulsoo.kim@bikecorporation.me',\n",
       " 'subject': '\"ZENESIS\" 자전거 유통 협력 및 미팅 일정 제안',\n",
       " 'summary': '김철수 상무가 이은채 대리에게 ZENESIS 자전거에 대한 브로슈어 요청 및 협력 논의를 위한 미팅 제안(1월 15일 오전 10시)을 보냈습니다.',\n",
       " 'date': '2024-01-15T10:00:00'}"
      ]
     },
     "execution_count": 43,
     "metadata": {},
     "output_type": "execute_result"
    }
   ],
   "source": [
    "response3.model_dump()"
   ]
  },
  {
   "cell_type": "markdown",
   "id": "5895b018",
   "metadata": {},
   "source": [
    "## JsonOutputParser"
   ]
  },
  {
   "cell_type": "code",
   "execution_count": 2,
   "id": "fecb40ac",
   "metadata": {},
   "outputs": [],
   "source": [
    "from langchain_core.prompts import ChatPromptTemplate\n",
    "from langchain_core.output_parsers import JsonOutputParser\n",
    "from pydantic import BaseModel, Field\n",
    "from langchain_openai import ChatOpenAI\n",
    "\n",
    "from dotenv import load_dotenv\n",
    "load_dotenv()\n",
    "\n",
    "llm = ChatOpenAI(\n",
    "    model_name=\"gpt-4o-mini\",\n",
    "    temperature=0.7,\n",
    "    max_tokens=150,\n",
    ")"
   ]
  },
  {
   "cell_type": "code",
   "execution_count": 3,
   "id": "94965a4c",
   "metadata": {},
   "outputs": [],
   "source": [
    "class Topic(BaseModel):\n",
    "    description: str = Field(description=\"주제에 대한 간결한 설명\")\n",
    "    hashtags: str = Field(description=\"해시태그 형식의 키워드(2개 이상)\")"
   ]
  },
  {
   "cell_type": "code",
   "execution_count": null,
   "id": "51703640",
   "metadata": {},
   "outputs": [],
   "source": [
    "parser = JsonOutputParser(pydantic_object=Topic)\n",
    "print(parser.get_format_instructions())\n",
    "\n",
    "prompt = ChatPromptTemplate.from_messages(\n",
    "    [\n",
    "        (\"system\", \"당신은 친절한 AI 어시스턴트 입니다. 질문에 간결하게 답변하세요.\"),\n",
    "        (\"user\", \"#Format: {format_instructions}\\n\\n#Question: {question}\"),\n",
    "    ]\n",
    ")\n",
    "prompt = prompt.partial(format_instructions=parser.get_format_instructions())\n",
    "chain = prompt | llm | parser\n",
    "\n",
    "question = \"지구 온난화의 심각성 대해 알려주세요.\"\n",
    "answer = chain.invoke({\"question\": question})"
   ]
  },
  {
   "cell_type": "code",
   "execution_count": 9,
   "id": "fed9d238",
   "metadata": {},
   "outputs": [
    {
     "name": "stdout",
     "output_type": "stream",
     "text": [
      "The output should be formatted as a JSON instance that conforms to the JSON schema below.\n",
      "\n",
      "As an example, for the schema {\"properties\": {\"foo\": {\"title\": \"Foo\", \"description\": \"a list of strings\", \"type\": \"array\", \"items\": {\"type\": \"string\"}}}, \"required\": [\"foo\"]}\n",
      "the object {\"foo\": [\"bar\", \"baz\"]} is a well-formatted instance of the schema. The object {\"properties\": {\"foo\": [\"bar\", \"baz\"]}} is not well-formatted.\n",
      "\n",
      "Here is the output schema:\n",
      "```\n",
      "{\"properties\": {\"description\": {\"description\": \"주제에 대한 간결한 설명\", \"title\": \"Description\", \"type\": \"string\"}, \"hashtags\": {\"description\": \"해시태그 형식의 키워드(2개 이상)\", \"title\": \"Hashtags\", \"type\": \"string\"}}, \"required\": [\"description\", \"hashtags\"]}\n",
      "```\n"
     ]
    }
   ],
   "source": [
    "parser = JsonOutputParser(pydantic_object=Topic)\n",
    "print(parser.get_format_instructions())"
   ]
  },
  {
   "cell_type": "code",
   "execution_count": 5,
   "id": "8f23601e",
   "metadata": {},
   "outputs": [
    {
     "data": {
      "text/plain": [
       "{'description': '지구 온난화는 기후 변화로 인해 지구의 평균 온도가 상승하고 있는 현상으로, 생태계와 인류에 심각한 영향을 미치고 있습니다.',\n",
       " 'hashtags': '#지구온난화 #기후변화'}"
      ]
     },
     "execution_count": 5,
     "metadata": {},
     "output_type": "execute_result"
    }
   ],
   "source": [
    "answer"
   ]
  },
  {
   "cell_type": "code",
   "execution_count": 6,
   "id": "7d7389da",
   "metadata": {},
   "outputs": [
    {
     "data": {
      "text/plain": [
       "dict"
      ]
     },
     "execution_count": 6,
     "metadata": {},
     "output_type": "execute_result"
    }
   ],
   "source": [
    "type(answer)"
   ]
  },
  {
   "cell_type": "markdown",
   "id": "3a333484",
   "metadata": {},
   "source": [
    "### without Pydantic"
   ]
  },
  {
   "cell_type": "code",
   "execution_count": 10,
   "id": "6285ccc4",
   "metadata": {},
   "outputs": [
    {
     "name": "stdout",
     "output_type": "stream",
     "text": [
      "{'description': '지구 온난화는 지구의 평균 기온이 상승하는 현상으로, 주로 온실가스의 증가로 인해 발생합니다. 이로 인해 기후 변화, 해수면 상승, 생태계 파괴 등의 문제가 발생할 수 있습니다.', 'hashtags': ['#지구온난화', '#기후변화', '#온실가스', '#환경문제', '#지구']}\n"
     ]
    }
   ],
   "source": [
    "# JSON 출력 파서 초기화\n",
    "parser = JsonOutputParser()\n",
    "\n",
    "# 프롬프트 템플릿을 설정합니다.\n",
    "prompt = ChatPromptTemplate.from_messages(\n",
    "    [\n",
    "        (\"system\", \"당신은 친절한 AI 어시스턴트 입니다. 질문에 간결하게 답변하세요.\"),\n",
    "        (\"user\", \"#Format: {format_instructions}\\n\\n#Question: {question}\"),\n",
    "    ]\n",
    ")\n",
    "prompt = prompt.partial(format_instructions=parser.get_format_instructions())\n",
    "chain = prompt | llm | parser\n",
    "\n",
    "question = \"지구 온난화에 대해 알려주세요. 온난화에 대한 설명은 `description`에, 관련 키워드는 `hashtags`에 담아주세요.\"\n",
    "response = chain.invoke({\"question\": question})\n",
    "\n",
    "print(response)"
   ]
  },
  {
   "cell_type": "code",
   "execution_count": 8,
   "id": "988084b9",
   "metadata": {},
   "outputs": [
    {
     "data": {
      "text/plain": [
       "'Return a JSON object.'"
      ]
     },
     "execution_count": 8,
     "metadata": {},
     "output_type": "execute_result"
    }
   ],
   "source": [
    "parser.get_format_instructions()"
   ]
  },
  {
   "cell_type": "markdown",
   "id": "18f35e3f",
   "metadata": {},
   "source": [
    "## StructuredOutputParser"
   ]
  },
  {
   "cell_type": "code",
   "execution_count": 11,
   "id": "8bc1a1ef",
   "metadata": {},
   "outputs": [],
   "source": [
    "from langchain.output_parsers import ResponseSchema, StructuredOutputParser\n",
    "from langchain_core.prompts import PromptTemplate\n",
    "from langchain_openai import ChatOpenAI\n",
    "\n",
    "response_schemas = [\n",
    "    ResponseSchema(name=\"description\", description=\"사용자의 질문에 대한 답변\"),\n",
    "    ResponseSchema(\n",
    "        name=\"hashtag\",\n",
    "        description=\"답변 내 주요 키워드\",\n",
    "    ),\n",
    "]"
   ]
  },
  {
   "cell_type": "code",
   "execution_count": 19,
   "id": "99133c6e",
   "metadata": {},
   "outputs": [
    {
     "name": "stdout",
     "output_type": "stream",
     "text": [
      "\n",
      "```json\n",
      "{\n",
      "\t\"description\": string  // 사용자의 질문에 대한 답변\n",
      "\t\"hashtag\": string  // 답변 내 주요 키워드\n",
      "}\n",
      "```\n"
     ]
    }
   ],
   "source": [
    "output_parser = StructuredOutputParser.from_response_schemas(response_schemas)\n",
    "format_instructions = output_parser.get_format_instructions(only_json=True)\n",
    "print(format_instructions)\n",
    "\n",
    "# prompt = PromptTemplate(\n",
    "#     template = \"\"\"당신은 친절한 AI 어시스턴트 입니다. 질문에 간결하게 답변하세요.\\n#Format: {format_instructions}\\n#question: {question}\"\"\",\n",
    "#     # input_variables=[\"question\"],\n",
    "#     # partial_variables={\"format_instructions\": format_instructions}\n",
    "# )\n",
    "\n",
    "prompt = PromptTemplate.from_template(\n",
    "    template = \"\"\"당신은 친절한 AI 어시스턴트 입니다. 질문에 간결하게 답변하세요.\\n#Format: {format_instructions}\\n#question: {question}\"\"\",\n",
    ")\n",
    "prompt = prompt.partial(format_instructions=output_parser.get_format_instructions())\n",
    "chain = prompt | llm | output_parser\n",
    "\n",
    "question = \"지구 온난화의 심각성 대해 알려주세요.\"\n",
    "answer = chain.invoke({\"question\": question})"
   ]
  },
  {
   "cell_type": "code",
   "execution_count": 20,
   "id": "efdacb15",
   "metadata": {},
   "outputs": [
    {
     "data": {
      "text/plain": [
       "{'description': '지구 온난화는 기후 변화로 인해 지구의 평균 기온이 상승하는 현상으로, 해수면 상승, 극단적인 날씨, 생태계 파괴 등 다양한 문제를 초래합니다. 이는 인류와 자연에 심각한 영향을 미치고 있어 빠른 대응이 필요합니다.',\n",
       " 'hashtag': '#지구온난화 #기후변화 #환경문제'}"
      ]
     },
     "execution_count": 20,
     "metadata": {},
     "output_type": "execute_result"
    }
   ],
   "source": [
    "answer"
   ]
  },
  {
   "cell_type": "code",
   "execution_count": 3,
   "id": "0dd3f43c",
   "metadata": {},
   "outputs": [
    {
     "name": "stdout",
     "output_type": "stream",
     "text": [
      "{'counter': 6}\n"
     ]
    }
   ],
   "source": [
    "from langgraph.graph import StateGraph, START, END\n",
    "from typing import TypedDict\n",
    "\n",
    "# 그래프의 상태를 정의하는 클래스\n",
    "class MyState(TypedDict):\n",
    "    counter: int\n",
    "\n",
    "graph = StateGraph(MyState)\n",
    "\n",
    "def increment(state):\n",
    "    return {\"counter\": state[\"counter\"] + 1}\n",
    "\n",
    "graph.add_node(\"increment\", increment)\n",
    "\n",
    "graph.add_edge(START, \"increment\")\n",
    "\n",
    "graph.add_edge(\"increment\", END)\n",
    "\n",
    "app = graph.compile()\n",
    "\n",
    "# 초기 상태로 0을 제공\n",
    "result = app.invoke({\"counter\": 5})\n",
    "print(result)"
   ]
  },
  {
   "cell_type": "code",
   "execution_count": null,
   "id": "a1becbb0",
   "metadata": {},
   "outputs": [],
   "source": []
  }
 ],
 "metadata": {
  "kernelspec": {
   "display_name": "venv",
   "language": "python",
   "name": "python3"
  },
  "language_info": {
   "codemirror_mode": {
    "name": "ipython",
    "version": 3
   },
   "file_extension": ".py",
   "mimetype": "text/x-python",
   "name": "python",
   "nbconvert_exporter": "python",
   "pygments_lexer": "ipython3",
   "version": "3.11.3"
  }
 },
 "nbformat": 4,
 "nbformat_minor": 5
}
